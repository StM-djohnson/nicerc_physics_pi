{
 "cells": [
  {
   "cell_type": "markdown",
   "metadata": {
    "deletable": false,
    "editable": false
   },
   "source": [
    "# Electricity and Magnetism \n",
    "## 1 Introduction to Microcontroller\n",
    "### 01 Introduction to Physics\n",
    "\n",
    "#### What is Physics?\n",
    "\n",
    "Physics is a branch of science concerned with the nature and properties of energy and matter. The physics curriculum herein is a rigorous junior/senior‐level high school course designed to provide a heavy emphasis on applications through a project‐ based hands‐on approach. The course integrates real applications of mathematics, science, and engineering. Louisiana Tech University College of Engineering and Science faculty, in collaboration with high school teachers, developed this Physics curriculum. The curriculum is designed around fundamental topics, hands‐on projects, and NASA themed examples threaded together to provide students with a comprehensive physics experience.\n",
    "\n",
    "<img src=\"../images/01.01.rasppi.jpg\" alt=\"drawing\" width=\"200px\" align=\"right\" style=\"border:2px solid #d9d9d9; margin:0px 20px\" /> \n",
    "\n",
    "#### Why the Raspberry Pi?\n",
    "\n",
    "To portray the concepts in the course, the Raspberry Pi manufactured by the Raspberry Pi Foundation and equipped with an Explorer HAT Pro is utilized as the primary hardware platform for instruction. The Raspberry Pi is a cost efficient way to demonstrate a variety of physics concepts while building useful electronics skills along the way. The Raspberry Pi and the Explorer HAT Pro provide a convenient platform for measuring physical quantities and for controlling actions in the physical world, allowing students to experience physics for themselves.\n",
    "\n",
    "#### Snapshot of the Physics Curriculum\n",
    "\n",
    "The **Electricity & Magnetism** unit seeks to help students develop an intuitive understanding of electrical voltage, resistance, and current as they build electric circuits and learn to use a multimeter. This section also illustrates the coupling of electric and magnetic fields by building an electric motor and an acoustic speaker. Projects in this section are listed below.\n",
    "\n",
    "* Progamming the Raspberry Pi\n",
    "* Making the Raspberry Pi move\n",
    "* Using Multi-meters to measure voltage, current and resistance\n",
    "* Working with Google Sheets\n",
    "* Building an electric motor with paper clips and wire\n",
    "* Building an acoustic speaker\n",
    "* Competing in a robotic race\n",
    "\n",
    "**Work & Mechanics**  unit focuses on gravity, particle motion, forces, equilibrium, and truss design. These are the primary topics covered in many traditional high school physics courses. Some of the projects included in this section are listed below.\n",
    "\n",
    "* Using a digital camera to determine the gravitational constant “g”\n",
    "* Using energy calculations to determine the behavior of a rubber band projectile\n",
    "* Programming the Raspberry Pi to navigate the “valley of death” using an accelerometer\n",
    "\n",
    "**Light & Optics** discusses the fundamentals of electromagnetic radiation, reflection, refraction, and optics. Projects in this section include optically counting wheel rotations and using a QTI sensor to keep a robot from running off the edge of a table.\n",
    "\n",
    "**Waves & Sound** discusses the properties of waves, sound, and music. Students build their own working guitar while completing this section.\n",
    "\n",
    "The **Thermal Fluids** unit illustrates conservation of energy and energy transport through temperature measurement and by designing an air‐powered paper rocket.\n",
    "\n",
    "The course materials are designed to revisit some topics. In particular, the concepts of electricity, circuits, work, and energy are found in a number of projects. The scope of the course materials would make it difficult to complete all sections and projects in a single academic year. The breadth of content provides flexibility for instructors, allowing them to focus on specific topics more than others and to vary the content from year to year.\n",
    "\n",
    "A mixed approach to content delivery is adopted where the user is thrown into a project without necessarily knowing all of the fundamentals and technical details behind the topic being explored. In other cases, fundamental topics are presented before projects are implemented. Students are encouraged to actively discuss course content with their classmates, use online resources to explore topics further, and have fun with the sometimes open‐ended nature of the projects. The homework problems seek to provide additional practice in learning the fundamental topics for each section. Completion of many of these problems is recommended to gain the full benefit of the physics experience."
   ]
  },
  {
   "cell_type": "code",
   "execution_count": null,
   "metadata": {},
   "outputs": [],
   "source": []
  }
 ],
 "metadata": {
  "kernelspec": {
   "display_name": "Markdown",
   "language": "markdown",
   "name": "markdown"
  },
  "language_info": {
   "codemirror_mode": "markdown",
   "file_extension": ".md",
   "mimetype": "text/markdown",
   "name": "Markdown",
   "pygments_lexer": "markdown"
  }
 },
 "nbformat": 4,
 "nbformat_minor": 2
}
