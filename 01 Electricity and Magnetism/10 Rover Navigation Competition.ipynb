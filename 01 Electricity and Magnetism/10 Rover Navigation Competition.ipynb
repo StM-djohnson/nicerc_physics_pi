{
 "cells": [
  {
   "cell_type": "markdown",
   "metadata": {},
   "source": [
    "# Electricity and Magnetism \n",
    "## 1 Introduction to Microcontroller\n",
    "### 10 Rover Navigation Competition\n",
    "\n",
    "Let’s put your programming skills to the test and see who is able to most efficiently program their Raspberry Pi. You will need to navigate through the maze based solely on your ability to estimate an ending location in respect to beginning location using the process of dead reckoning. You will be given a starting location and an ending location with various turns required to navigate between those points.\n",
    "\n",
    "#### General Maze Setup\n",
    "\n",
    "* ~10 minutes testing/refining period\n",
    "* ~20 minutes for every team to run the maze once\n",
    "* ~20 minutes for every team to run the maze again\n",
    "* remaining time to clean up/return to class\n"
   ]
  },
  {
   "cell_type": "code",
   "execution_count": null,
   "metadata": {},
   "outputs": [],
   "source": []
  }
 ],
 "metadata": {
  "kernelspec": {
   "display_name": "Python 3",
   "language": "python",
   "name": "python3"
  },
  "language_info": {
   "codemirror_mode": {
    "name": "ipython",
    "version": 3
   },
   "file_extension": ".py",
   "mimetype": "text/x-python",
   "name": "python",
   "nbconvert_exporter": "python",
   "pygments_lexer": "ipython3",
   "version": "3.6.5"
  },
  "toc": {
   "base_numbering": 1,
   "nav_menu": {},
   "number_sections": true,
   "sideBar": true,
   "skip_h1_title": false,
   "title_cell": "Table of Contents",
   "title_sidebar": "Contents",
   "toc_cell": false,
   "toc_position": {},
   "toc_section_display": true,
   "toc_window_display": false
  }
 },
 "nbformat": 4,
 "nbformat_minor": 2
}
