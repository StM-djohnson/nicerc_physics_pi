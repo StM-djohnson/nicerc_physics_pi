{
 "cells": [
  {
   "cell_type": "markdown",
   "metadata": {},
   "source": [
    "# Electricity and Magnetism \n",
    "## 1 Introduction to Microcontroller\n",
    "### 02 Hello World\n",
    "\n",
    "<img src=\"../images/RasPi.jpeg\" alt=\"RasPi\" width=\"300px\" align=\"left\" style=\"border:2px solid #d9d9d9; margin:0px 20px\" /> \n",
    "\n",
    "Let's meet our companion through this course - your Raspberry Pi! The RasPi is a complete computer that is about the size of a credit card. The platform is also extensible - your RasPi should have an Explorer Pro HAT installed on top of it. (The blue box with all the holes in it is part of the Explorer HAT)\n",
    "\n",
    "Your RasPi should already be set up with a [functioning operating system](https://www.raspbian.org/). In this lesson we are going to remotely connect to the RasPi, and run a few simple programs in Python on it."
   ]
  },
  {
   "cell_type": "markdown",
   "metadata": {},
   "source": [
    "#### Connecting to the Raspberry Pi\n",
    "\n",
    "Each RasPi has an unique IP address associated with it. This is a (long) number that serves as an address on the network - much like your home address. The IP address is assigned to your device and will not change as long as you are connected to the school's wireless network. Consult your class documentation to get your IP address (it looks like: xxx.xxx.xxx.xxx)\n",
    "\n",
    "We will be using a program called [SSH to connect to your RasPi](https://en.wikipedia.org/wiki/Secure_Shell) - SSH stands for Secure SHell, and it uses an encrypted connection to run a terminal session on a remote machine. Your Chromebook should have the Google SSH Client installed - look for this icon ![ssh_icon](../images/ssh_icon.png)\n",
    "Once you find it, you can click on it to start the SSH client.\n",
    "\n",
    "The screen you will initially see will ask for some login information - complete it using this image as your guide. ![ssh_config](../images/ssh_connect.png)\n",
    "\n",
    "Click 'Connect' and you will be connected to your RasPi. You will be prompted for a password - the default password on all RasPi is 'raspberry' - there is information on changing it, however you are advised not to at this time. If you change it and forget your password, all of your work will need to be wiped out!\n",
    "\n",
    "#### Using the Bash Shell and Python\n",
    "\n",
    "You will now be at the terminal prompt - it should look something like this\n",
    "\n",
    "```sh\n",
    "pi@raspberrypi:~ $\n",
    "```\n",
    "\n",
    "Commands you type will go after the \\$. The information before tells us who we are (pi) and where we are located (@raspberrypi). It then tells us what directory we are working in (~), which is a shortcut for the 'home' directory. Now, let's make a few directories to help us organize things. After each line, hit the 'Enter' key. Remember, enter the commands AFTER the \\$.\n",
    "\n",
    "```bash\n",
    "$ mkdir development\n",
    "$ cd development\n",
    "$ mkdir python\n",
    "$ cd python\n",
    "$ mkdir 02HelloWorld\n",
    "$ cd 02HelloWorld\n",
    "```\n",
    "\n",
    "Your command prompt should now look like `pi@raspberrypi:~/development/python/02HelloWorld $`\n",
    "\n",
    "#### Your first Python program!\n",
    "\n",
    "We are (finally) ready to write and execute some code! It's important to remember - since we are remotely connected to our RasPi, all of the code is executed on that device, and not on the Chromebook. The Chromebook is in this case a Remote Client - none of the code will use any processing power from the Chromebook. Let's create and edit a file, write some easy Python code, and then run it.\n",
    "\n",
    "```bash\n",
    "$ nano -w helloworld.py\n",
    "```\n",
    "\n",
    "This starts the *[nano](https://www.nano-editor.org/)* editor - a simple file editor. On the first line type the following: `print(\"Hello World\")`\n",
    "\n",
    "Now, use the key combination Ctrl+o to save the file, then Ctrl+x to exit nano. You just wrote your first program! Now lets run it:\n",
    "\n",
    "```bash\n",
    "$ python helloworld.py\n",
    "```\n",
    "\n",
    "Did you get some output? You can also try the code in this notebook - click in the cell below and then press Shift+Enter to run the code."
   ]
  },
  {
   "cell_type": "code",
   "execution_count": 1,
   "metadata": {},
   "outputs": [
    {
     "name": "stdout",
     "output_type": "stream",
     "text": [
      "Hello World\n"
     ]
    }
   ],
   "source": [
    "print(\"Hello World\")"
   ]
  },
  {
   "cell_type": "markdown",
   "metadata": {},
   "source": [
    "#### Summary\n",
    "We covered an incredible amount of work in this one lesson. We\n",
    "\n",
    "1. Remote connected to our RasPi via SSH\n",
    "2. Created and navigated directories\n",
    "3. Created a file on the remote machine\n",
    "4. Edited the file to contain some Python code\n",
    "5. Used the Python interpreter to run the code and view the output\n",
    "\n",
    "All while not physically using the RasPi!"
   ]
  },
  {
   "cell_type": "code",
   "execution_count": null,
   "metadata": {},
   "outputs": [],
   "source": []
  }
 ],
 "metadata": {
  "kernelspec": {
   "display_name": "Python 3",
   "language": "python",
   "name": "python3"
  },
  "language_info": {
   "codemirror_mode": {
    "name": "ipython",
    "version": 3
   },
   "file_extension": ".py",
   "mimetype": "text/x-python",
   "name": "python",
   "nbconvert_exporter": "python",
   "pygments_lexer": "ipython3",
   "version": "3.6.5"
  },
  "toc": {
   "base_numbering": 1,
   "nav_menu": {},
   "number_sections": true,
   "sideBar": true,
   "skip_h1_title": false,
   "title_cell": "Table of Contents",
   "title_sidebar": "Contents",
   "toc_cell": false,
   "toc_position": {},
   "toc_section_display": true,
   "toc_window_display": false
  }
 },
 "nbformat": 4,
 "nbformat_minor": 2
}
