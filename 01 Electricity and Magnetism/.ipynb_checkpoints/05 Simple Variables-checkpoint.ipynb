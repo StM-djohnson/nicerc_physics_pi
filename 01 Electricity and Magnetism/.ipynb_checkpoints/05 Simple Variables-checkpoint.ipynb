{
 "cells": [
  {
   "cell_type": "markdown",
   "metadata": {},
   "source": [
    "# Electricity and Magnetism \n",
    "## 1 Introduction to Microcontroller\n",
    "### 05 Simple Variables\n",
    "\n",
    "Remember the countdown from last class? What if you want to change the delay between each number? We used the `time.sleep(2)` command to slow down each output line by 2 seconds. But what if we didn't want to use 2 seconds? What if we wanted to change that delay to a different number? One thing we can do is declare a variable to be equal to our delay amount. \n",
    "![variable_image](../images/variable_graphic.png)\n",
    "Think of a variable in mathematics. You can have an equation like, y = mx + b, where m and b are constants (the slope and y‐intercept, respectively), but the y and x are variables that can change values. The same idea is used here in programming. You can assign a variable name to a changing component in a program, and then define how you want that variable to change.\n",
    "\n",
    "### Data Types\n",
    "\n",
    "| Bits | Type |             Data Range             |\n",
    "|:----:|:----:|:----------------------------------:|\n",
    "|   1  |  Bit |               0 to 1               |\n",
    "|   8  | Byte |      0 to 255 (or -128 to 127)     |\n",
    "|  16  | Word | 0 to 65,535 (or -32,768 to 32,767) |\n",
    "\n",
    "A bit has a range from 0 to 1, and size of 2, or only uses 2 digits. Therefore, this data type functions in a base‐two number system.\n",
    "\n",
    "What does this mean for a base‐two number system? Since base‐ten functions in powers of ten, base‐two functions in powers of two. Recall from yesterday’s lesson:\n",
    "\n",
    "| $2^7$ | $2^6$ | $2^5$ | $2^4$ | $2^3$ | $2^2$ | $2^1$ | $2^0$ |\n",
    "|:---:\t|:---:\t|:---:\t|:---:\t|:---:\t|:---:\t|:---:\t|:---:\t|\n",
    "|  128 \t|  64 \t|  32 \t|  16 \t|  8  \t|  4  \t|  2  \t|  1  \t|\n",
    "\n",
    "Since a bit uses only one value, either 0 or 1; where a byte is composed of 8 bits, or a 8‐digit number using\n",
    "only 0s and 1s for digits. What is the base‐ten value of the byte 00000010? By writing the byte in expanded notation using powers of two, you can determine its base‐ten value.\n",
    "\n",
    "$$00000010 = 0(2^7) + 0(2^6) + 0(2^5) + 0(2^4) + 0(2^3) + 0(2^2) + 1(2^1) + 0(2^0) = 2$$\n",
    "\n",
    "Therefore, the byte 00000010 has a value of 2 in base-ten.\n",
    "\n",
    "__Class Problems:__ (recall base-two is referred to as **binary**, and base-ten is called **decimal**)\n",
    "\n",
    "*Problems to be done in class*\n",
    "\n",
    "1. Convert 1011 to decimal<br><br>\n",
    "\n",
    "2. Convert 110101 to decimal<br><br>\n",
    "\n",
    "3. Convert 12 to binary<br><br>\n",
    "\n",
    "4. Convert 25 to binary<br><br>\n",
    "\n",
    "How can data type help us with programming? When variables are needed in computer programs, the data type needs to be identified. Computers commonly use bytes, as the math needed to work on numbers stored as binary is very quick to do. The Python language has several higher level data types that we will be using. Here is a quick overview.\n",
    "\n",
    "| Data Type | Format | Description |\n",
    "| :---:     | :---:  | :---:       |\n",
    "|   int     | a = 10 | Signed (+/-) Integer |\n",
    "|  float    | a = 5.43 | Floating point (.) Real Integers | \n",
    "|  complex  | a = 3+j | A complex number, 3 + 1i |\n",
    "| string    | a = \"Hi\" | A length of text/non-numeric data |\n",
    "\n",
    "You may have noticed in the Countdown program we used a FOR loop `for x in reversed(range(1, 11))`. Let's take a closer look at this. Python does not use a 'countdown for loop' like many other programming languages do. Instead, in Python we can devise a `range` of numbers to run over. Because we were counting *down*, we used the `reversed` function to flip the range. Let's try to rewrite the program using a variable countdown length. Here's the original program:\n",
    "\n",
    "```python\n",
    "import time\n",
    "for x in reversed(range(1, 11)):\n",
    "    print(x)\n",
    "    time.sleep(2)\n",
    "print(\"Blastoff!!\")\n",
    "```\n",
    "\n",
    "We are going to have to add in a few small changes. First, let's declare our variable `countdown = 15` as our total countdown value, and change the `11` to `countdown + 1` (remember, Python counts up to but not including the top `range` value):"
   ]
  },
  {
   "cell_type": "code",
   "execution_count": 2,
   "metadata": {},
   "outputs": [
    {
     "name": "stdout",
     "output_type": "stream",
     "text": [
      "15\n",
      "14\n",
      "13\n",
      "12\n",
      "11\n",
      "10\n",
      "9\n",
      "8\n",
      "7\n",
      "6\n",
      "5\n",
      "4\n",
      "3\n",
      "2\n",
      "1\n",
      "Blastoff!!\n"
     ]
    }
   ],
   "source": [
    "# Run this code with Shift + Enter\n",
    "import time\n",
    "countdown = 15\n",
    "for x in reversed(range(1, countdown + 1)):\n",
    "    print(x)\n",
    "    time.sleep(2)\n",
    "print(\"Blastoff!!\")"
   ]
  },
  {
   "cell_type": "markdown",
   "metadata": {},
   "source": [
    "As you can see, we can now easily change the value we count down from. Python automatically assigns a data type to a declared variable, in this case an int. In some other programming languages, the type of variable needs to be declared before the variable is assigned a value, but Python bundles these two steps together. Let's try to change the amount of time we `sleep()` for. Can you add the correct lines below to have the program sleep for .5 seconds? What kind of data type will your variable be?"
   ]
  },
  {
   "cell_type": "code",
   "execution_count": null,
   "metadata": {},
   "outputs": [],
   "source": [
    "# Run this code with Shift + Enter\n",
    "import time\n",
    "countdown = 15\n",
    "\n",
    "for x in reversed(range(1, countdown + 1)):\n",
    "    print(x)\n",
    "    time.sleep( )\n",
    "print(\"Blastoff!!\")"
   ]
  }
 ],
 "metadata": {
  "kernelspec": {
   "display_name": "Python 3",
   "language": "python",
   "name": "python3"
  },
  "language_info": {
   "codemirror_mode": {
    "name": "ipython",
    "version": 3
   },
   "file_extension": ".py",
   "mimetype": "text/x-python",
   "name": "python",
   "nbconvert_exporter": "python",
   "pygments_lexer": "ipython3",
   "version": "3.6.5"
  },
  "toc": {
   "base_numbering": 1,
   "nav_menu": {},
   "number_sections": true,
   "sideBar": true,
   "skip_h1_title": false,
   "title_cell": "Table of Contents",
   "title_sidebar": "Contents",
   "toc_cell": false,
   "toc_position": {},
   "toc_section_display": true,
   "toc_window_display": false
  }
 },
 "nbformat": 4,
 "nbformat_minor": 2
}
