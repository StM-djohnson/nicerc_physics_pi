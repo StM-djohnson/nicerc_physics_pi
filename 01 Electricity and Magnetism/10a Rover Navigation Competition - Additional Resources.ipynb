{
 "cells": [
  {
   "cell_type": "markdown",
   "metadata": {},
   "source": [
    "# Electricity and Magnetism \n",
    "## 1 Introduction to Microcontroller\n",
    "### 10a Rover Navigation Competition - Additional Resources\n",
    "\n",
    "For those brave enough, the rover maze can provide some additional programming challenges. Here are a few options to consider - these are by no means the only way to improve your rover's handling of the maze. Inventive solutions to the maze may be worth additional class credit.\n",
    "\n",
    "#### Building a Navigation GUI\n",
    "\n",
    "One option is to build a GUI (Graphical User Interface) for your robot to remotely control. [Building a Navigation GUI](https://projects.raspberrypi.org/en/projects/explorer-hat-buggy) should get you started. GUI building, while simplified in this example, still involves more difficult programing!\n",
    "\n",
    "#### Follow the Line\n",
    "\n",
    "A second idea might be to program the rover to follow a line on the ground. [Programming line following sensors](https://projects.raspberrypi.org/en/projects/rpi-python-line-following) should get you started on the code. You will also need to provide the path you want the rover to follow through the maze!\n",
    "\n",
    "These two ideas, and any other you may come up with, do not replace learning the Dead Reckoning method of navigation. Please discuss your ideas with the teacher before implementing them."
   ]
  },
  {
   "cell_type": "code",
   "execution_count": null,
   "metadata": {},
   "outputs": [],
   "source": []
  }
 ],
 "metadata": {
  "kernelspec": {
   "display_name": "Markdown",
   "language": "markdown",
   "name": "markdown"
  },
  "language_info": {
   "codemirror_mode": "markdown",
   "file_extension": ".md",
   "mimetype": "text/markdown",
   "name": "Markdown",
   "pygments_lexer": "markdown"
  },
  "toc": {
   "base_numbering": 1,
   "nav_menu": {},
   "number_sections": true,
   "sideBar": true,
   "skip_h1_title": false,
   "title_cell": "Table of Contents",
   "title_sidebar": "Contents",
   "toc_cell": false,
   "toc_position": {},
   "toc_section_display": true,
   "toc_window_display": false
  }
 },
 "nbformat": 4,
 "nbformat_minor": 2
}
