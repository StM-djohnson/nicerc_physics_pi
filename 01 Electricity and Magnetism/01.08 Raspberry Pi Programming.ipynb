{
 "cells": [
  {
   "cell_type": "markdown",
   "metadata": {
    "deletable": false,
    "editable": false
   },
   "source": [
    "# Electricity and Magnetism \n",
    "## 1 Introduction to Microcontroller\n",
    "### 08 Raspberry Pi Programming\n",
    "\n",
    "The intent of today’s lesson is to improve programming skills by making the Raspberry Pi perform some advanced navigation maneuvers.\n",
    "\n",
    "An excellent exercise is to make the Raspberry Pi move at different speeds instead of a constant speed. In order to make the Raspberry Pi gradually speed up from a standstill to its maximum velocity, hold that speed for a fixed time period, and then slow back down to a standstill, one method is to use changing variables inside of while loops. Let's look at the following snippit of code."
   ]
  },
  {
   "cell_type": "code",
   "execution_count": null,
   "metadata": {
    "code_folding": []
   },
   "outputs": [],
   "source": [
    "import explorerhat\n",
    "from time import sleep\n",
    "\n",
    "motor_speed = 0\n",
    "\n",
    "while True:\n",
    "    while (motor_speed <= 100):\n",
    "        explorerhat.motor.forwards(motor_speed)\n",
    "        sleep(.1)\n",
    "        motor_speed = motor_speed + 10\n",
    "    sleep(10)\n",
    "    explorerhat.motor.stop()"
   ]
  },
  {
   "cell_type": "markdown",
   "metadata": {},
   "source": [
    "Let's take a closer look at this code. Most of it should be familiar, so let's jump down to line 4. We initialize a variable named `motor_speed` to be zero. On line 7 we nest another `while` loop inside our first `while` - and this loop has a condition: run as long as our variable is less than or equal to 100. Line 8 sets the motor speed to our variable. Line 9 sleeps for .1 of a second. Line 10 *increases* our variable by 10, and the loop starts again.\n",
    "\n",
    "#### Class Activity\n",
    "Discuss what you think this program does. How can you modify the program to achieve changes in speed and turning of the STS-Pi? Can you design out a velocity profile for your STS-Pi and create a flow chart for the program?\n",
    "\n",
    "Another interesting exercise is to program the Raspberry Pi to navigate in a figure 8 pattern. This is a variation of programming the Raspberry Pi to navigate in a circle. A figure 8 can be navigated using two circles, clockwise followed by counterclockwise (or vice versa). This same pattern can also be navigated by following one semi-circle, followed by a full circle, followed by another semi-circle. Navigate this pattern\n",
    "using either or both of these techniques.\n",
    "![Figure 8 Loop](../images/01.08.circle.loop.png)\n",
    "\n"
   ]
  },
  {
   "cell_type": "code",
   "execution_count": null,
   "metadata": {},
   "outputs": [],
   "source": []
  }
 ],
 "metadata": {
  "kernelspec": {
   "display_name": "Python 3",
   "language": "python",
   "name": "python3"
  },
  "language_info": {
   "codemirror_mode": {
    "name": "ipython",
    "version": 3
   },
   "file_extension": ".py",
   "mimetype": "text/x-python",
   "name": "python",
   "nbconvert_exporter": "python",
   "pygments_lexer": "ipython3",
   "version": "3.6.5"
  },
  "toc": {
   "base_numbering": 1,
   "nav_menu": {},
   "number_sections": true,
   "sideBar": true,
   "skip_h1_title": false,
   "title_cell": "Table of Contents",
   "title_sidebar": "Contents",
   "toc_cell": false,
   "toc_position": {},
   "toc_section_display": true,
   "toc_window_display": false
  }
 },
 "nbformat": 4,
 "nbformat_minor": 2
}
