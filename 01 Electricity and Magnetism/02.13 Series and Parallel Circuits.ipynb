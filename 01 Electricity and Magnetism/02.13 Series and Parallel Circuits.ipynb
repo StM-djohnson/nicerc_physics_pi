{
 "cells": [
  {
   "cell_type": "markdown",
   "metadata": {},
   "source": [
    "# Electricity and Magnetism \n",
    "## 2 Electricity Fundamentals\n",
    "### 13 Series and Parallel Circuits\n",
    "\n",
    "Circuit elements that are in series share the same current. There is no other path in which current can flow except that path between and through the elements that are in series. Another way to think of elements in series is that only one end of each element is connected together.\n",
    "\n",
    "Circuit elements that are in parallel share the same voltage. The voltage across any one of the elements in parallel is the same as the voltage across all of the elements in parallel. Another way to think of elements in parallel is that both ends of each element are connected together.\n",
    "\n",
    "**Activity:**\n",
    "\n",
    "* Using your breadboard and two resistors, build a series circuit. See Figure 1.\n",
    "  1. Measure the voltage across resistors and find the sum of these voltages.\n",
    "  2. How does the sum of voltages relate to the value of the source?\n",
    "  3. Measure the current through each resistor. Describe the current among resistors.\n",
    "  \n",
    "     <img src=\"../images/02.13.series.jpg\" alt=\"drawing\" style=\"border:2px solid #d9d9d9\" align=\"center\" width=\"400px\"/><p style=\"text-align: center;\">**Figure 1**<br/>**Example Circuit - two resistors in series**</p>\n",
    "\n",
    "\n",
    "* Build a parallel circuit with two resistors. See Figure 2. \n",
    "  1. Measure the voltage across resistors.\n",
    "  2. What can you say about the voltage for each resistor?\n",
    "  3. Measure the current through each resistor.\n",
    "  4. Find the sum of the currents, and compare the sum to the current leaving (or returning to) the source.\n",
    "  \n",
    "    <img src=\"../images/02.13.parallel.jpg\" alt=\"drawing\" style=\"border:2px solid #d9d9d9\" align=\"center\" width=\"400px\"/><p style=\"text-align: center;\">**Figure 2**<br/>**Example Circuit - two resistors in parallel**       </p>\n",
    "---    \n",
    "    \n",
    "* Build a circuit with one resistor connected to 5V in series and with two resistors in parallel, both connected to GRD.\n",
    "\n",
    "    <img src=\"../images/02.13.ser.par.jpg\" alt=\"drawing\" style=\"border:2px solid #d9d9d9\" align=\"center\" width=\"400px\"/><p style=\"text-align: center;\">**Figure 3**<br/>**Example Circuit – One resistor connected to 5V in series with two resistors connected to GND in parallel**</p>\n",
    "\n",
    "\n",
    "* Build a circuit with one resistor in series with two resistors in parallel followed by another resistor in series. See Figure 4. What type of circuit would be the result of removing one of the parallel resistors?\n",
    "\n",
    "    <img src=\"../images/02.13.ser.par.ser.jpg\" alt=\"drawing\" style=\"border:2px solid #d9d9d9\" align=\"center\" width=\"400px\"/><p style=\"text-align: center;\">**Figure 4**<br/>**Example Circuit – One resistor in series with two resistors in parallel followed by another resistor in series.**</p>"
   ]
  },
  {
   "cell_type": "markdown",
   "metadata": {},
   "source": []
  }
 ],
 "metadata": {
  "kernelspec": {
   "display_name": "Markdown",
   "language": "markdown",
   "name": "markdown"
  },
  "language_info": {
   "codemirror_mode": "markdown",
   "file_extension": ".md",
   "mimetype": "text/markdown",
   "name": "Markdown",
   "pygments_lexer": "markdown"
  },
  "toc": {
   "base_numbering": 1,
   "nav_menu": {},
   "number_sections": true,
   "sideBar": true,
   "skip_h1_title": false,
   "title_cell": "Table of Contents",
   "title_sidebar": "Contents",
   "toc_cell": false,
   "toc_position": {},
   "toc_section_display": true,
   "toc_window_display": false
  }
 },
 "nbformat": 4,
 "nbformat_minor": 2
}
