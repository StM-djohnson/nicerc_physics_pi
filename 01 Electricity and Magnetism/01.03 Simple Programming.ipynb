{
 "cells": [
  {
   "cell_type": "markdown",
   "metadata": {
    "deletable": false,
    "editable": false
   },
   "source": [
    "# Electricity and Magnetism \n",
    "## 1 Introduction to Microcontroller\n",
    "### 03 Simple Programming\n",
    "\n",
    "<img src=\"https://upload.wikimedia.org/wikipedia/commons/4/41/Space_Shuttle_Columbia_launching.jpg\" alt=\"drawing\" width=\"200px\" align=\"left\" style=\"border:2px solid #d9d9d9; margin:0px 20px\" /> \n",
    "\n",
    "One of the key events in a shuttle launch is the countdown. Typically, someone\n",
    "starts by saying, “T minus 15 seconds…” then counts down from, “3, 2, 1, 0, booster,\n",
    "ignition, and liftoff.”\n",
    "\n",
    "Let’s have the microcontroller perform a similar countdown starting from 10 counting down to 1. Let’s also make the computer output the word “liftoff.”\n",
    "To do this, let's take a look at some Python programming below, and then we will connect to our Rasberry Pi devices and try the code there."
   ]
  },
  {
   "cell_type": "markdown",
   "metadata": {
    "deletable": false,
    "editable": false
   },
   "source": [
    "Try writing a program to countdown from 10 to 1, and print \"Liftoff!\" in the cell below."
   ]
  },
  {
   "cell_type": "code",
   "execution_count": null,
   "metadata": {},
   "outputs": [],
   "source": [
    "# Write the countdown program here, using the commands you know\n",
    "#"
   ]
  },
  {
   "cell_type": "markdown",
   "metadata": {
    "deletable": false,
    "editable": false
   },
   "source": [
    "You probably wrote a lot of 'print()' statements, right?\n",
    "\n",
    "An easier way to write it in Python is to use a FOR control loop. In the example below we have used a for loop to run the loop whenever x is in the range from 1 to 11. Why 11? Python generates the numbers UP TO the last number in the range command. You can read [more about range in the official documentation.](https://docs.python.org/3.5/library/stdtypes.html#range) Try running the code below."
   ]
  },
  {
   "cell_type": "code",
   "execution_count": 1,
   "metadata": {},
   "outputs": [
    {
     "name": "stdout",
     "output_type": "stream",
     "text": [
      "10\n",
      "9\n",
      "8\n",
      "7\n",
      "6\n",
      "5\n",
      "4\n",
      "3\n",
      "2\n",
      "1\n",
      "Blastoff!!\n"
     ]
    }
   ],
   "source": [
    "# Try running this code \n",
    "for x in reversed(range(1, 11)):\n",
    "    print(x)\n",
    "print(\"Blastoff!!\")\n"
   ]
  },
  {
   "cell_type": "markdown",
   "metadata": {
    "deletable": false,
    "editable": false
   },
   "source": [
    "Well that certainly worked! But it went by a little fast - let's add some python code to slow it down a bit. We will import the [TIME library](https://docs.python.org/3.5/library/time.html) into our python code, and will use the command time.sleep(2) to have the program slow down the output by 2 seconds. The first cell below has the two commands we need, can you figure out where to put them in the second cell (with the original code in it?) "
   ]
  },
  {
   "cell_type": "code",
   "execution_count": null,
   "metadata": {
    "deletable": false,
    "editable": false
   },
   "outputs": [],
   "source": [
    "# Put these two lines in their correct places!\n",
    "import time\n",
    "time.sleep(2)"
   ]
  },
  {
   "cell_type": "code",
   "execution_count": null,
   "metadata": {},
   "outputs": [],
   "source": [
    "# Place the code from the cell above in the right places - then run the code!\n",
    "\n",
    "for x in reversed(range(1, 11)):\n",
    "    print(x)\n",
    "print(\"Blastoff!!\")"
   ]
  },
  {
   "cell_type": "markdown",
   "metadata": {
    "deletable": false,
    "editable": false
   },
   "source": [
    "Now let's try this code on our Raspberry Pi! Use the SSH application to connect to and log into your RaspPi. Navigate to your development/python directory and make a new directory. You can then use nano to edit a new file named countdown.py\n",
    "```bash\n",
    "$ cd ~/development/python\n",
    "$ mkdir 03.countdown\n",
    "$ cd 03.countdown\n",
    "$ nano -w countdown.py\n",
    "```\n",
    "Copy and paste your code with the sleep function into the nano editor. Save the file then run it from the command prompt.\n",
    "```bash\n",
    "$python countdown.py\n",
    "```\n",
    "You should have seen the code execute at the command prompt, and the output should have been slowed by 2 seconds per line."
   ]
  },
  {
   "cell_type": "code",
   "execution_count": null,
   "metadata": {},
   "outputs": [],
   "source": []
  }
 ],
 "metadata": {
  "kernelspec": {
   "display_name": "Python 3",
   "language": "python",
   "name": "python3"
  },
  "language_info": {
   "codemirror_mode": {
    "name": "ipython",
    "version": 3
   },
   "file_extension": ".py",
   "mimetype": "text/x-python",
   "name": "python",
   "nbconvert_exporter": "python",
   "pygments_lexer": "ipython3",
   "version": "3.6.5"
  },
  "toc": {
   "base_numbering": 1,
   "nav_menu": {},
   "number_sections": true,
   "sideBar": true,
   "skip_h1_title": false,
   "title_cell": "Table of Contents",
   "title_sidebar": "Contents",
   "toc_cell": false,
   "toc_position": {},
   "toc_section_display": true,
   "toc_window_display": false
  }
 },
 "nbformat": 4,
 "nbformat_minor": 2
}
