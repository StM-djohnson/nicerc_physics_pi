{
 "cells": [
  {
   "cell_type": "markdown",
   "metadata": {},
   "source": [
    "# Electricity and Magnetism \n",
    "## 1 Introduction to Microcontroller\n",
    "### 05 Simple Variables\n",
    "\n",
    "Remember the countdown from last class? What if you want to change the delay between each number? We used the `time.sleep(2)` command to slow down each output line by 2 seconds. But what if we didn't want to use 2 seconds? What if we wanted to change that delay to a different number? One thing we can do is declare a variable to be equal to our delay amount. \n",
    "![variable_image](../images/variable_graphic.png)\n",
    "Think of a variable in mathematics. You can have an equation like, y = mx + b, where m and b are constants (the slope and y‐intercept, respectively), but the y and x are variables that can change values. The same idea is used here in programming. You can assign a variable name to a changing component in a program, and then define how you want that variable to change.\n",
    "\n",
    "### Data Types\n",
    "\n",
    "| Bits | Type |             Data Range             |\n",
    "|:----:|:----:|:----------------------------------:|\n",
    "|   1  |  Bit |               0 to 1               |\n",
    "|   8  | Byte |      0 to 255 (or -128 to 127)     |\n",
    "|  16  | Word | 0 to 65,535 (or -32,768 to 32,767) |\n",
    "\n",
    "A bit has a range from 0 to 1, and size of 2, or only uses 2 digits. Therefore, this data type functions in a base‐two number system.\n",
    "\n",
    "What does this mean for a base‐two number system? Since base‐ten functions in powers of ten, base‐two functions in powers of two. Recall from yesterday’s lesson:\n",
    "\n",
    "| 2^5 \t| 2^4 \t| 2^3 \t| 2^2 \t| 2^1 \t| 2^0 \t|\n",
    "|:---:\t|:---:\t|:---:\t|:---:\t|:---:\t|:---:\t|\n",
    "|  32 \t|  16 \t|  8  \t|  4  \t|  2  \t|  1  \t|"
   ]
  },
  {
   "cell_type": "code",
   "execution_count": null,
   "metadata": {},
   "outputs": [],
   "source": []
  }
 ],
 "metadata": {
  "kernelspec": {
   "display_name": "Python 3",
   "language": "python",
   "name": "python3"
  },
  "language_info": {
   "codemirror_mode": {
    "name": "ipython",
    "version": 3
   },
   "file_extension": ".py",
   "mimetype": "text/x-python",
   "name": "python",
   "nbconvert_exporter": "python",
   "pygments_lexer": "ipython3",
   "version": "3.6.5"
  },
  "toc": {
   "base_numbering": 1,
   "nav_menu": {},
   "number_sections": true,
   "sideBar": true,
   "skip_h1_title": false,
   "title_cell": "Table of Contents",
   "title_sidebar": "Contents",
   "toc_cell": false,
   "toc_position": {},
   "toc_section_display": true,
   "toc_window_display": false
  }
 },
 "nbformat": 4,
 "nbformat_minor": 2
}
