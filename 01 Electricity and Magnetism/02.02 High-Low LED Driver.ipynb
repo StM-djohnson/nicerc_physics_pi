{
 "cells": [
  {
   "cell_type": "markdown",
   "metadata": {
    "deletable": false,
    "editable": false
   },
   "source": [
    "# Electricity and Magnetism \n",
    "## 2 Electricity Fundamentals\n",
    "### 02 High/Low LED Driver\n",
    "\n",
    "In Lesson 3 you had the Raspberry Pi simulate a shuttle launch countdown. At this point, your program should count down correctly, but you want it to acknowledge the completed countdown and the launch of the shuttle with something visual, other than printing a message on a computer screen. Let’s simulate the shuttle launching by turning on an LED.\n",
    "\n",
    "#### Building the Circuitry\n",
    "\n",
    "Before turning on the LED, let’s look closer at the circuitry to gain a better understanding of what all is needed to make the LED light up. The first component of the circuitry setup is the resistor. There are many sizes of resistors that limit the flow of current through an electrical circuit. When turning on an LED, a resistor must be in place; otherwise, you run the risk of supplying too much current that will in burn up the LED. Look at a resistor from your kit. As you can see, each resistor has a specific color coding. Each color stripe indicates information about the total value of the resistor. The resistor table at the end of this\n",
    "lesson will help you with the size of the resistor being used.\n",
    "\n",
    "By using the chart, you can determine the resistance of a resistor from its color stripes. The first stripe corresponds to the first digit, the second stripe relates to the second digit, and the third stripe corresponds to the number of zeros to the right of the second digit. The forth stripe is the tolerance of the resistor. The tolerance stripe is always a metallic color like gold or silver, making it is easy to distinguish which side of the resistor should be your first stripe. For example, a 470 Ω resistor would be yellow‐violet‐brown with a metallic fourth stripe, where yellow represents a 4, violet represents a 7, and brown represents one 0 that follows the resistor values. Putting them all together, you have a resistor of 470 ohms. (Ω is the Greek letter omega which is used to represent ohms, the units of resistance.)\n",
    "\n",
    "Now let’s figure out what color stripes would be on a 220 Ω resistor.\n",
    "\n",
    "![resistor chart](../images/02.01.resistor.chart.png)\n",
    "\n",
    "* 2 = Red\n",
    "* 2 = Red\n",
    "* 0 = Brown\n",
    "\n",
    "Thus, the resistor will have the color stripes of: red, red, brown.\n",
    "\n",
    "The next component that needs discussing is the breadboard. The breadboard is the white (blue) board with all the holes in it. You should remember from the previous lesson how a breadboard works and is laid out. A breadboard is a device commonly used to quickly build prototype electric circuits.\n",
    "\n",
    "The third and final component to be discussed is the LED itself. The flow of current through the LED is unidirectional (meaning it can only travel in one direction), thus the LED must be positioned in the circuit properly. How can you tell if the LED is set up properly? There are two visual ways to determine the direction an LED allows current to flow:\n",
    "\n",
    "<img src=\"../images/02.02.led.description.png\" alt=\"drawing\" align=\"right\" width=\"200px\"/>\n",
    "\n",
    "* The length of the leads - the short lead is connected to the lower potential (ground).\n",
    "\n",
    "\n",
    "* The LED plastic casing - The flat side on the base of the LED is connected to the lower potential or ground. (This is useful to know when one of the leads has been cut.)\n",
    "\n"
   ]
  },
  {
   "cell_type": "markdown",
   "metadata": {},
   "source": [
    "#### How do you turn on an LED?\n",
    "\n",
    "<img src=\"../images/02.02.led.diagram.png\" alt=\"drawing\" align=\"right\" width=\"200px\"/>\n",
    "\n",
    "The schematic to the right is for a simple circuit required to\n",
    "light the LED. The photo below is the circuit assembled on the\n",
    "Explorer HAT Pro breadboard.\n",
    "\n",
    "\n",
    "Notice how the resistor is plugged into the 5V pin. The 5V pin supplies the circuit with a regulated voltage of 5 volts, 5V, the standard unit for voltage. If the resistor was plugged into a pin marked as 3.3V, then the circuit would be supplied with the voltage value of 3.3 Volts.\n",
    "\n",
    "What if you want to control the LED when it turns on, how long it stays on, etc.?\n",
    "\n",
    "To do this, you need to incorporate the circuit into a program. Move the power lead to Output 1. (Selecting any of the Output ports, 1 through 4, has the same effect, you just need to know which Output port to use in your program). The Raspberry Pi can now control when the pin is acting as a power source. Below is a picture of the circuit with Output 1 connected as the power source. It's important to note what is happening here - the Output ports SINK 5V to Ground - so turning the Output 1 port 'ON' connects the circuit.\n",
    "\n",
    "\n",
    "\n",
    "Now let's take a look at turning the LED on and off. SSH into your Raspberry Pi, navigate to your ```~\\development``` folder, create a new directory named after this lesson, and inside that folder begin to edit a file named `02.02.led-on-off.py`. Here's the code for turning an LED on and off.\n",
    "\n",
    "```python\n",
    "import explorerhat\n",
    "\n",
    "while True:\n",
    "        explorerhat.output[0].on()\n",
    "```\n",
    "\n",
    "Let's try to make it a little more complex. The [Explorerhat Library](https://github.com/pimoroni/explorer-hat/blob/master/documentation/Function-reference.md) has two functions, `off()` and `toggle()` for flipping the Output port. Let's try to make the LED blink.\n",
    "\n",
    "```python\n",
    "import explorerhat\n",
    "import time\n",
    "\n",
    "while True:\n",
    "    explorerhat.output[0].on()\n",
    "    time.sleep(.5)\n",
    "    explorerhat.output[0].tog\n",
    "```"
   ]
  },
  {
   "cell_type": "code",
   "execution_count": null,
   "metadata": {},
   "outputs": [],
   "source": []
  }
 ],
 "metadata": {
  "kernelspec": {
   "display_name": "Markdown",
   "language": "markdown",
   "name": "markdown"
  },
  "language_info": {
   "codemirror_mode": "markdown",
   "file_extension": ".md",
   "mimetype": "text/markdown",
   "name": "Markdown",
   "pygments_lexer": "markdown"
  },
  "toc": {
   "base_numbering": 1,
   "nav_menu": {},
   "number_sections": true,
   "sideBar": true,
   "skip_h1_title": false,
   "title_cell": "Table of Contents",
   "title_sidebar": "Contents",
   "toc_cell": false,
   "toc_position": {},
   "toc_section_display": true,
   "toc_window_display": false
  }
 },
 "nbformat": 4,
 "nbformat_minor": 2
}
