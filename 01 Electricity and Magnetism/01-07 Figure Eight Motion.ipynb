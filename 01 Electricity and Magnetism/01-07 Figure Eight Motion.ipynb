{
 "cells": [
  {
   "cell_type": "markdown",
   "metadata": {
    "deletable": false,
    "editable": false
   },
   "source": [
    "# Electricity and Magnetism \n",
    "## 1 Introduction to Microcontroller\n",
    "### 07 Figure Eight Motion\n",
    "\n",
    "Today’s class will be filled with two activities that use the concepts from last class on programming Raspberry Pi motion.\n",
    "\n",
    "#### Activity 1: Motion Around a Pencil\n",
    "\n",
    "The first activity will require your Raspberry Pi to perform a simple forward and turning motion. Try to make your Raspberry Pi move around a pencil and return to its starting location. This project should be done in teams of two.\n",
    "\n",
    "Setup: Clear everything from your table except a Raspberry Pi and a computer for each team of students. Place two books or notebooks on the table 11 inches apart (the length of a standard sheet of paper) near one edge of the table.\n",
    "\n",
    "Objective: Program your Raspberry Pi to leave from a starting point between the notebooks and around the pencil. Return to the area between or behind the notebooks and stop before running off the table. Use the `explorerhat` library commands for the various moves (forwards, backwards, using individual motors, etc.). Create a flow chart of the motion needed for the Raspberry Pi to complete the task. Have your instructor check to see that your program is working before leaving class.\n",
    "\n",
    "![pencil path](../images/01.07.pencil.path.png)\n",
    "\n",
    "#### Activity 2: Figure Eight\n",
    "\n",
    "The second activity will require your Raspberry Pi to perform a figure 8 motion around two objects set a certain distance apart.\n",
    "\n",
    "Setup: Take two objects (cups, books, keys, etc.) and place them approximately 22 inches apart (length of two sheets of paper). This will form the figure 8 course the Raspberry Pi will follow. Start the Raspberry Pi near one of the objects as indicated in the image below.\n",
    "\n",
    "Objective: Make a flow chart of the program needed to form the figure 8 prior to writing the program. Write a program that allows the Raspberry Pi to form a figure 8 around the objects and return to the starting location.\n",
    "\n",
    "![figure 8 path](../images/01.07.figure.8.path.png)"
   ]
  },
  {
   "cell_type": "code",
   "execution_count": null,
   "metadata": {},
   "outputs": [],
   "source": []
  }
 ],
 "metadata": {
  "kernelspec": {
   "display_name": "Python 3",
   "language": "python",
   "name": "python3"
  },
  "language_info": {
   "codemirror_mode": {
    "name": "ipython",
    "version": 3
   },
   "file_extension": ".py",
   "mimetype": "text/x-python",
   "name": "python",
   "nbconvert_exporter": "python",
   "pygments_lexer": "ipython3",
   "version": "3.6.5"
  },
  "toc": {
   "base_numbering": 1,
   "nav_menu": {},
   "number_sections": true,
   "sideBar": true,
   "skip_h1_title": false,
   "title_cell": "Table of Contents",
   "title_sidebar": "Contents",
   "toc_cell": false,
   "toc_position": {},
   "toc_section_display": true,
   "toc_window_display": false
  }
 },
 "nbformat": 4,
 "nbformat_minor": 2
}
