{
 "cells": [
  {
   "cell_type": "markdown",
   "metadata": {},
   "source": [
    "# Electricity and Magnetism \n",
    "## 1 Introduction to Microcontroller\n",
    "### 09 Dead Reckoning Navigation\n",
    "\n",
    "Today you will program the Raspberry Pi to navigate through a maze using a planning strategy. We want to program the Raspberry Pi to navigate through the maze automatically. We call this process Dead Reckoning. Dead Reckoning is the process of estimating current positioning based upon a previous predetermined set location. Generally stated, when you are programming your Raspberry Pi to navigate through the maze, you will be estimating its process to reach the ending position based upon the designated starting location.\n",
    "\n",
    "In order to make the Raspberry Pi perform this operation, you must first calibrate your robot. Calibrating is noting the measurement precisely in relation to a standard measurement. The calibration will be conducted by measuring the robot speed and the distance the robot travels. Knowing these components, you will be able to obtain the servo run time. This principal is based on the concept that time is equal to distance divided by speed. As it applies to the robot's equation, we can state:\n",
    "\n",
    "\\begin{equation}\n",
    "Servo Run Time = \\frac{RobotDistance}{RobotSpeed}\n",
    "\\end{equation}\n",
    "\n",
    "and after a little math\n",
    "\n",
    "\\begin{equation}\n",
    "velocity = \\frac{distance}{time}\n",
    "\\end{equation}\n",
    "\n",
    "Importantly, when we divide the total distance changed ($\\Delta x$) by the total time ($\\Delta t$) we get the *average* velocity for the object\n",
    "\n",
    "\\begin{equation}\n",
    "velocity_{avg} = \\frac{x_2 - x_1}{t_2 - t_1}\n",
    "\\end{equation}\n",
    "\n",
    "\\begin{equation}\n",
    "velocity_{avg} = \\frac{\\Delta x}{\\Delta t}\n",
    "\\end{equation}\n",
    "\n",
    "Knowing this equation is a big help in understanding what to do for your calibration. If you have your Raspberry Pi set next to a ruler you can program the Raspberry Pi to travel forward for one second. This will give you the distance and speed that the Raspberry Pi traveled. From this information, you can calculate the servo run time for one second of Raspberry Pi motion.\n",
    "\n",
    "**Hint:** The unit of speed is the unit of distance divided by the unit of time.\n",
    "\n",
    "The following program will make the Raspberry Pi move forward at full speed for 1 second. You take several measurements of your robot moving forward at different time intervals and at different speed to start to plan for running the maze."
   ]
  },
  {
   "cell_type": "code",
   "execution_count": null,
   "metadata": {},
   "outputs": [],
   "source": [
    "import explorerhat\n",
    "from time import sleep\n",
    "\n",
    "while True:\n",
    "    explorerhat.motor.forwards(100) # set motor speed to 100 (full speed)\n",
    "    sleep(1)                        # allow motors to run for 1 second\n",
    "    explorerhat.motor.stop()        # stop all motors"
   ]
  },
  {
   "cell_type": "markdown",
   "metadata": {},
   "source": [
    "#### Navigation Practice\n",
    "\n",
    "Your remaining class time should be spent calibrating your Raspberry Pi robot. Try seeing how long it takes the robot to move forward different amounts of time, and how quickly you can make the robot turn in certain directions."
   ]
  },
  {
   "cell_type": "code",
   "execution_count": null,
   "metadata": {},
   "outputs": [],
   "source": []
  }
 ],
 "metadata": {
  "kernelspec": {
   "display_name": "Python 3",
   "language": "python",
   "name": "python3"
  },
  "language_info": {
   "codemirror_mode": {
    "name": "ipython",
    "version": 3
   },
   "file_extension": ".py",
   "mimetype": "text/x-python",
   "name": "python",
   "nbconvert_exporter": "python",
   "pygments_lexer": "ipython3",
   "version": "3.6.5"
  },
  "toc": {
   "base_numbering": 1,
   "nav_menu": {},
   "number_sections": true,
   "sideBar": true,
   "skip_h1_title": false,
   "title_cell": "Table of Contents",
   "title_sidebar": "Contents",
   "toc_cell": false,
   "toc_position": {},
   "toc_section_display": true,
   "toc_window_display": false
  }
 },
 "nbformat": 4,
 "nbformat_minor": 2
}
